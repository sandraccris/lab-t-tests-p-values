{
 "cells": [
  {
   "cell_type": "markdown",
   "id": "21dd2703",
   "metadata": {},
   "source": [
    "In a packing plant, a machine packs cartons with jars. It is supposed that a new machine will pack faster on the average than the machine currently used. To test that hypothesis, the times it takes each machine to pack ten cartons are recorded. The results, in seconds, are shown in the tables in the file files_for_lab/machine.txt. Assume that there is sufficient evidence to conduct the t test, does the data provide sufficient evidence to show if one machine is better than the other"
   ]
  },
  {
   "cell_type": "code",
   "execution_count": 1,
   "id": "62c8ee0a",
   "metadata": {},
   "outputs": [
    {
     "data": {
      "text/plain": [
       "42.14"
      ]
     },
     "execution_count": 1,
     "metadata": {},
     "output_type": "execute_result"
    }
   ],
   "source": [
    "import numpy as np\n",
    "\n",
    "new_machine=[42.1, 41, 41.3, 41.8, 42.4, 42.8, 43.2, 42.3, 41.8, 42.7]\n",
    "nm_mean = np.mean(new_machine)\n",
    "nm_mean\n"
   ]
  },
  {
   "cell_type": "code",
   "execution_count": 2,
   "id": "0353675d",
   "metadata": {},
   "outputs": [
    {
     "data": {
      "text/plain": [
       "43.230000000000004"
      ]
     },
     "execution_count": 2,
     "metadata": {},
     "output_type": "execute_result"
    }
   ],
   "source": [
    "old_machine=[42.7, 43.6, 43.8, 43.3, 42.5, 43.5, 43.1, 41.7, 44, 44.1]\n",
    "om_mean = np.mean(old_machine)\n",
    "om_mean"
   ]
  },
  {
   "cell_type": "code",
   "execution_count": 15,
   "id": "cbfd8876",
   "metadata": {},
   "outputs": [
    {
     "data": {
      "text/plain": [
       "0.6483826030978941"
      ]
     },
     "execution_count": 15,
     "metadata": {},
     "output_type": "execute_result"
    }
   ],
   "source": [
    "nm_sd=np.std(new_machine)\n",
    "nm_sd"
   ]
  },
  {
   "cell_type": "code",
   "execution_count": 16,
   "id": "daa4fc32",
   "metadata": {},
   "outputs": [
    {
     "data": {
      "text/plain": [
       "0.7114070564732956"
      ]
     },
     "execution_count": 16,
     "metadata": {},
     "output_type": "execute_result"
    }
   ],
   "source": [
    "om_sd=np.std(old_machine)\n",
    "om_sd"
   ]
  },
  {
   "cell_type": "code",
   "execution_count": null,
   "id": "8f14ca2e",
   "metadata": {},
   "outputs": [],
   "source": [
    "#Null hypothesis: H0: μ = 43.23 seconds;\n",
    "#Alternative hypothesis:  Ha ≠ 43.23 seconds - New Machine packs faster or slower than old machine? 2 Tail Test.  There is no particular direction of the expected difference.\n",
    "\n",
    "#Old Machine samples: 10\n",
    "#New Machine samples: 10\n",
    "\n",
    "    \n",
    "#Old Machine average packing time μ = 43.23\n",
    "#New Machine average packing time μ = 42.14\n",
    "\n",
    "#Old machine std = 0.711\n",
    "#New machine std  = 0.648\n",
    "\n",
    "    \n",
    "#Significance Level: α: 0.05\n",
    "\n",
    "        \n",
    "#DOF: (n1-1)+(n2-1). 18"
   ]
  },
  {
   "cell_type": "code",
   "execution_count": 17,
   "id": "78041e70",
   "metadata": {},
   "outputs": [
    {
     "data": {
      "text/plain": [
       "0.6806247130394253"
      ]
     },
     "execution_count": 17,
     "metadata": {},
     "output_type": "execute_result"
    }
   ],
   "source": [
    "#pooled_sample_std = math.sqrt(((n1-1)*sample_std1**2 + (n2-1)*sample_std2**2)/(n1+n2-2))\n",
    "\n",
    "pooled_std= np.sqrt(((9*nm_sd*nm_sd)+(9*om_sd*om_sd))/18)\n",
    "pooled_std"
   ]
  },
  {
   "cell_type": "code",
   "execution_count": 18,
   "id": "70a75ac9",
   "metadata": {},
   "outputs": [
    {
     "data": {
      "text/plain": [
       "3.5809955894645813"
      ]
     },
     "execution_count": 18,
     "metadata": {},
     "output_type": "execute_result"
    }
   ],
   "source": [
    "import math\n",
    "\n",
    "# statistic = (sample_mean1-sample_mean2)/(pooled_sample_std*math.sqrt((1/n1)+(1/n2)))\n",
    "\n",
    "t_statistic=(om_mean-nm_mean)/(pooled_std*math.sqrt((1/10)+1/10))\n",
    "\n",
    "t_statistic"
   ]
  },
  {
   "cell_type": "code",
   "execution_count": 19,
   "id": "890600e8",
   "metadata": {},
   "outputs": [
    {
     "data": {
      "text/plain": [
       "3.583074878961247"
      ]
     },
     "execution_count": 19,
     "metadata": {},
     "output_type": "execute_result"
    }
   ],
   "source": [
    "import math\n",
    "\n",
    "# statistic = (sample_mean1-sample_mean2)/(pooled_sample_std*math.sqrt((1/n1)+(1/n2)))\n",
    "\n",
    "t_statisticc=(43.23-42.14)/(0.6802297406023938*math.sqrt((1/10)+1/10))\n",
    "\n",
    "t_statisticc"
   ]
  },
  {
   "cell_type": "code",
   "execution_count": 20,
   "id": "74b8a3d0",
   "metadata": {},
   "outputs": [
    {
     "data": {
      "text/plain": [
       "Ttest_indResult(statistic=3.3972307061176026, pvalue=0.0032111425007745158)"
      ]
     },
     "execution_count": 20,
     "metadata": {},
     "output_type": "execute_result"
    }
   ],
   "source": [
    "from scipy.stats import ttest_ind\n",
    "\n",
    "#using python function to calculate statistic value and p value\n",
    "\n",
    "ttest_ind(old_machine, new_machine)"
   ]
  },
  {
   "cell_type": "markdown",
   "id": "ba1d9b13",
   "metadata": {},
   "source": [
    "Statistic Value = 3.39\n",
    "\n",
    "Critical Value = 2.101 (From T table, DOF 18, 2 TAIL, α: 0.05)\n",
    "\n",
    "p_value: 0.003 (3%)\n",
    "    \n",
    "So Statistic value is inside the critical region (CV < SV) therefore we reject our Null Hypothesis.\n",
    "We have enough confidence to say that the speed of packing of the new machine is different from old machine, but we can't tell if its faster or not, if its better or not, only that results are statistically significant.\n",
    "\n",
    "Using p_value: 0.003 < 0.05 - Null Hypothesis Rejected."
   ]
  }
 ],
 "metadata": {
  "kernelspec": {
   "display_name": "Python 3 (ipykernel)",
   "language": "python",
   "name": "python3"
  },
  "language_info": {
   "codemirror_mode": {
    "name": "ipython",
    "version": 3
   },
   "file_extension": ".py",
   "mimetype": "text/x-python",
   "name": "python",
   "nbconvert_exporter": "python",
   "pygments_lexer": "ipython3",
   "version": "3.9.13"
  }
 },
 "nbformat": 4,
 "nbformat_minor": 5
}
